{
 "cells": [
  {
   "cell_type": "code",
   "execution_count": 1,
   "id": "046b5122",
   "metadata": {},
   "outputs": [],
   "source": [
    "import numpy as np\n",
    "import pandas as pd\n",
    "import matplotlib.pyplot as plt\n",
    "import seaborn as sns\n",
    "import os\n",
    "import sys\n",
    "import time\n",
    "import datetime as dt\n",
    "import jdatetime as jd\n",
    "from loguru import logger\n",
    "\n",
    "from scipy import stats\n",
    "from sklearn.preprocessing import StandardScaler\n",
    "from sklearn.manifold import TSNE\n",
    "from sklearn.cluster import KMeans\n",
    "\n",
    "from warnings import filterwarnings\n",
    "filterwarnings('ignore')\n"
   ]
  },
  {
   "cell_type": "code",
   "execution_count": 2,
   "metadata": {},
   "outputs": [],
   "source": [
    "plt.rcParams['figure.figsize'] = [12, 6]\n",
    "plt.rcParams['figure.dpi'] = 72\n",
    "plt.style.use('ggplot')\n",
    "pd.options.display.float_format = '{:.0f}'.format\n",
    "#np.random.seed(0)\n",
    "np.set_printoptions(precision=2, linewidth=100)\n",
    "sns.set_context('notebook')"
   ]
  },
  {
   "cell_type": "code",
   "execution_count": 113,
   "id": "ff9e2e0d",
   "metadata": {},
   "outputs": [],
   "source": [
    "revenue = pd.read_csv('data/Dataset.csv', index_col=0)"
   ]
  },
  {
   "cell_type": "markdown",
   "id": "284a0ffb",
   "metadata": {},
   "source": [
    "## EDA"
   ]
  },
  {
   "cell_type": "code",
   "execution_count": 242,
   "metadata": {},
   "outputs": [
    {
     "name": "stderr",
     "output_type": "stream",
     "text": [
      "2022-04-10 00:44:08.452 | INFO     | __main__:<cell line: 6>:6 - Data shape: (261960, 8)\n"
     ]
    },
    {
     "data": {
      "text/html": [
       "<div>\n",
       "<style scoped>\n",
       "    .dataframe tbody tr th:only-of-type {\n",
       "        vertical-align: middle;\n",
       "    }\n",
       "\n",
       "    .dataframe tbody tr th {\n",
       "        vertical-align: top;\n",
       "    }\n",
       "\n",
       "    .dataframe thead tr th {\n",
       "        text-align: left;\n",
       "    }\n",
       "</style>\n",
       "<table border=\"1\" class=\"dataframe\">\n",
       "  <thead>\n",
       "    <tr>\n",
       "      <th></th>\n",
       "      <th>dtype</th>\n",
       "      <th>pct_of_nan</th>\n",
       "      <th>num_uniques</th>\n",
       "      <th colspan=\"8\" halign=\"left\">count</th>\n",
       "    </tr>\n",
       "    <tr>\n",
       "      <th></th>\n",
       "      <th>0</th>\n",
       "      <th>1</th>\n",
       "      <th>2</th>\n",
       "      <th>count</th>\n",
       "      <th>mean</th>\n",
       "      <th>std</th>\n",
       "      <th>min</th>\n",
       "      <th>25%</th>\n",
       "      <th>50%</th>\n",
       "      <th>75%</th>\n",
       "      <th>max</th>\n",
       "    </tr>\n",
       "  </thead>\n",
       "  <tbody>\n",
       "    <tr>\n",
       "      <th>CustomerID</th>\n",
       "      <td>int64</td>\n",
       "      <td>% 0.00</td>\n",
       "      <td>179680</td>\n",
       "      <td>261960</td>\n",
       "      <td>7169337</td>\n",
       "      <td>4957141</td>\n",
       "      <td>465132</td>\n",
       "      <td>3267469</td>\n",
       "      <td>6663396</td>\n",
       "      <td>11227062</td>\n",
       "      <td>46549548</td>\n",
       "    </tr>\n",
       "    <tr>\n",
       "      <th>OrderID</th>\n",
       "      <td>int64</td>\n",
       "      <td>% 0.00</td>\n",
       "      <td>261960</td>\n",
       "      <td>261960</td>\n",
       "      <td>45264897</td>\n",
       "      <td>6121027</td>\n",
       "      <td>32930756</td>\n",
       "      <td>40061748</td>\n",
       "      <td>44792436</td>\n",
       "      <td>50045929</td>\n",
       "      <td>58853188</td>\n",
       "    </tr>\n",
       "    <tr>\n",
       "      <th>Date</th>\n",
       "      <td>int64</td>\n",
       "      <td>% 0.00</td>\n",
       "      <td>396</td>\n",
       "      <td>261960</td>\n",
       "      <td>20193661</td>\n",
       "      <td>4238</td>\n",
       "      <td>20190321</td>\n",
       "      <td>20190821</td>\n",
       "      <td>20191109</td>\n",
       "      <td>20200115</td>\n",
       "      <td>20200419</td>\n",
       "    </tr>\n",
       "    <tr>\n",
       "      <th>Revenue</th>\n",
       "      <td>int64</td>\n",
       "      <td>% 0.00</td>\n",
       "      <td>3314</td>\n",
       "      <td>261960</td>\n",
       "      <td>6110</td>\n",
       "      <td>5647</td>\n",
       "      <td>106</td>\n",
       "      <td>2451</td>\n",
       "      <td>5100</td>\n",
       "      <td>7960</td>\n",
       "      <td>175200</td>\n",
       "    </tr>\n",
       "    <tr>\n",
       "      <th>JdDate</th>\n",
       "      <td>object</td>\n",
       "      <td>% 0.00</td>\n",
       "      <td>396</td>\n",
       "      <td>NaN</td>\n",
       "      <td>NaN</td>\n",
       "      <td>NaN</td>\n",
       "      <td>NaN</td>\n",
       "      <td>NaN</td>\n",
       "      <td>NaN</td>\n",
       "      <td>NaN</td>\n",
       "      <td>NaN</td>\n",
       "    </tr>\n",
       "    <tr>\n",
       "      <th>GDate</th>\n",
       "      <td>object</td>\n",
       "      <td>% 0.00</td>\n",
       "      <td>396</td>\n",
       "      <td>NaN</td>\n",
       "      <td>NaN</td>\n",
       "      <td>NaN</td>\n",
       "      <td>NaN</td>\n",
       "      <td>NaN</td>\n",
       "      <td>NaN</td>\n",
       "      <td>NaN</td>\n",
       "      <td>NaN</td>\n",
       "    </tr>\n",
       "    <tr>\n",
       "      <th>JdMonth</th>\n",
       "      <td>object</td>\n",
       "      <td>% 0.00</td>\n",
       "      <td>12</td>\n",
       "      <td>NaN</td>\n",
       "      <td>NaN</td>\n",
       "      <td>NaN</td>\n",
       "      <td>NaN</td>\n",
       "      <td>NaN</td>\n",
       "      <td>NaN</td>\n",
       "      <td>NaN</td>\n",
       "      <td>NaN</td>\n",
       "    </tr>\n",
       "    <tr>\n",
       "      <th>JdWeekday</th>\n",
       "      <td>object</td>\n",
       "      <td>% 0.00</td>\n",
       "      <td>7</td>\n",
       "      <td>NaN</td>\n",
       "      <td>NaN</td>\n",
       "      <td>NaN</td>\n",
       "      <td>NaN</td>\n",
       "      <td>NaN</td>\n",
       "      <td>NaN</td>\n",
       "      <td>NaN</td>\n",
       "      <td>NaN</td>\n",
       "    </tr>\n",
       "  </tbody>\n",
       "</table>\n",
       "</div>"
      ],
      "text/plain": [
       "             dtype pct_of_nan num_uniques  count                            \\\n",
       "                 0          1           2  count     mean     std      min   \n",
       "CustomerID   int64     % 0.00      179680 261960  7169337 4957141   465132   \n",
       "OrderID      int64     % 0.00      261960 261960 45264897 6121027 32930756   \n",
       "Date         int64     % 0.00         396 261960 20193661    4238 20190321   \n",
       "Revenue      int64     % 0.00        3314 261960     6110    5647      106   \n",
       "JdDate      object     % 0.00         396    NaN      NaN     NaN      NaN   \n",
       "GDate       object     % 0.00         396    NaN      NaN     NaN      NaN   \n",
       "JdMonth     object     % 0.00          12    NaN      NaN     NaN      NaN   \n",
       "JdWeekday   object     % 0.00           7    NaN      NaN     NaN      NaN   \n",
       "\n",
       "                                                \n",
       "                25%      50%      75%      max  \n",
       "CustomerID  3267469  6663396 11227062 46549548  \n",
       "OrderID    40061748 44792436 50045929 58853188  \n",
       "Date       20190821 20191109 20200115 20200419  \n",
       "Revenue        2451     5100     7960   175200  \n",
       "JdDate          NaN      NaN      NaN      NaN  \n",
       "GDate           NaN      NaN      NaN      NaN  \n",
       "JdMonth         NaN      NaN      NaN      NaN  \n",
       "JdWeekday       NaN      NaN      NaN      NaN  "
      ]
     },
     "execution_count": 242,
     "metadata": {},
     "output_type": "execute_result"
    }
   ],
   "source": [
    "# def summary(df):\n",
    "#     display(df.describe())\n",
    "#     pass\n",
    "\n",
    "keys = ['dtype','pct_of_nan', 'num_uniques']+list(revenue.describe().T.columns)[:-1]\n",
    "logger.info(f'Data shape: {revenue.shape}')\n",
    "pd.concat([revenue.dtypes, \n",
    "          (revenue.isna().sum() / revenue.shape[0] * 100).map('% {:,.2f}'.format),\n",
    "          revenue.nunique(),\n",
    "          revenue.describe().T], axis=1, keys=keys)"
   ]
  },
  {
   "cell_type": "code",
   "execution_count": 243,
   "metadata": {},
   "outputs": [
    {
     "data": {
      "image/png": "[encoded data removed]",
      "text/plain": [
       "<Figure size 864x432 with 2 Axes>"
      ]
     },
     "metadata": {},
     "output_type": "display_data"
    }
   ],
   "source": [
    "fig, ax1 = plt.subplots()\n",
    "# ax1.set_title('Average Percipitation Percentage by Month')\n",
    "ax1.set_xlabel('Customer Value Count')\n",
    "ax1.set_ylabel('Count')\n",
    "sns.histplot(revenue.CustomerID.value_counts(sort=True)[revenue.CustomerID.value_counts(sort=True) > 5], ax=ax1)\n",
    "ax2 = ax1.twinx()\n",
    "ax2.set_ylabel('Porporation')\n",
    "sns.ecdfplot(revenue.CustomerID.value_counts(sort=True)[revenue.CustomerID.value_counts(sort=True) > 5], ax=ax2)\n",
    "ax1.set_xlim(0,200)\n",
    "ax2.set_xlim(0,200)\n",
    "plt.show()"
   ]
  },
  {
   "cell_type": "code",
   "execution_count": null,
   "metadata": {},
   "outputs": [],
   "source": []
  },
  {
   "cell_type": "code",
   "execution_count": 70,
   "metadata": {},
   "outputs": [
    {
     "data": {
      "text/plain": [
       "'fa_IR'"
      ]
     },
     "execution_count": 70,
     "metadata": {},
     "output_type": "execute_result"
    }
   ],
   "source": [
    "jd.set_locale('fa_IR')"
   ]
  },
  {
   "cell_type": "code",
   "execution_count": 7,
   "metadata": {},
   "outputs": [],
   "source": [
    "for index, row in revenue.iterrows():\n",
    "    assert len(str(row['Date'])) == 8\n"
   ]
  },
  {
   "cell_type": "markdown",
   "id": "3b7ee23d",
   "metadata": {},
   "source": [
    "### Date feature is surely in need for parsing\n",
    "both to Jalali datetime and Gregory datetime"
   ]
  },
  {
   "cell_type": "code",
   "execution_count": 118,
   "metadata": {},
   "outputs": [],
   "source": [
    "for index, row in revenue.iterrows():\n",
    "    revenue.loc[index, 'JdDate'] = jd.date.fromgregorian(date=dt.datetime.strptime(str(row['Date']), '%Y%m%d'))\n",
    "    revenue.loc[index, 'GDate'] = dt.datetime.strptime(str(row['Date']), '%Y%m%d')\n",
    "\n",
    "for index, row in revenue.iterrows():\n",
    "    revenue.loc[index, 'JdMonth'] = jd.datetime.jmonth_short(row['JdDate'])\n",
    "    revenue.loc[index, 'JdWeekday'] = jd.datetime.jweekday_short(row['JdDate'])\n",
    "    revenue.loc[index, 'GDate'] = dt.datetime.date(row['GDate'])"
   ]
  },
  {
   "cell_type": "code",
   "execution_count": 50,
   "metadata": {},
   "outputs": [
    {
     "name": "stderr",
     "output_type": "stream",
     "text": [
      "2022-04-09 22:32:16.120 | INFO     | __main__:<cell line: 1>:1 - last Gregory Date = 2020-04-19, \n",
      " last Jalali date = 1399-01-31\n"
     ]
    }
   ],
   "source": [
    "logger.info(f'last Gregory Date = {revenue.GDate.max()}, \\n last Jalali date = {str(revenue.JdDate.max())}')"
   ]
  },
  {
   "cell_type": "code",
   "execution_count": null,
   "id": "850e9574",
   "metadata": {},
   "outputs": [],
   "source": []
  },
  {
   "cell_type": "code",
   "execution_count": 51,
   "metadata": {},
   "outputs": [],
   "source": []
  },
  {
   "cell_type": "markdown",
   "id": "b1193092",
   "metadata": {},
   "source": [
    "let's see if we can see the disturbution of Revenue"
   ]
  },
  {
   "cell_type": "code",
   "execution_count": 15,
   "metadata": {},
   "outputs": [
    {
     "data": {
      "image/png": "[encoded data removed]",
      "text/plain": [
       "<Figure size 360x360 with 1 Axes>"
      ]
     },
     "metadata": {},
     "output_type": "display_data"
    }
   ],
   "source": [
    "g = sns.displot(revenue.Revenue)"
   ]
  },
  {
   "cell_type": "markdown",
   "id": "527f6502",
   "metadata": {},
   "source": [
    "most of our variable almosst follow the pareto dist, huh! intresting.\n"
   ]
  },
  {
   "cell_type": "markdown",
   "id": "58490226",
   "metadata": {},
   "source": [
    "## task 1\n",
    "1. Average Order Value, Average Frequency, total revenue in each month of 1398. (Based on Persian calendar)"
   ]
  },
  {
   "cell_type": "code",
   "execution_count": 25,
   "id": "3f842201",
   "metadata": {},
   "outputs": [
    {
     "name": "stderr",
     "output_type": "stream",
     "text": [
      "2022-04-09 22:15:15.100 | INFO     | __main__:<cell line: 4>:4 - \n",
      " Average Order Value = 6109.57059474729 \n",
      " Average Frequency 1.4579252003561889\n"
     ]
    }
   ],
   "source": [
    "avg_order_val = np.mean(revenue.groupby('OrderID')['Revenue'].mean()) #Average Order Value\n",
    "avg_freq = np.mean(revenue.groupby('CustomerID')['OrderID'].count()) #Average Frequency\n",
    "\n",
    "logger.info(f'\\n Average Order Value = {avg_order_val} \\n Average Frequency {avg_freq}')"
   ]
  },
  {
   "cell_type": "code",
   "execution_count": 153,
   "id": "7b67bbb3",
   "metadata": {},
   "outputs": [
    {
     "name": "stderr",
     "output_type": "stream",
     "text": [
      "2022-04-09 23:35:13.019 | INFO     | __main__:<cell line: 2>:2 - \n",
      " AVG Revenue Per Month in 1388\n"
     ]
    },
    {
     "data": {
      "text/html": [
       "<div>\n",
       "<style scoped>\n",
       "    .dataframe tbody tr th:only-of-type {\n",
       "        vertical-align: middle;\n",
       "    }\n",
       "\n",
       "    .dataframe tbody tr th {\n",
       "        vertical-align: top;\n",
       "    }\n",
       "\n",
       "    .dataframe thead th {\n",
       "        text-align: right;\n",
       "    }\n",
       "</style>\n",
       "<table border=\"1\" class=\"dataframe\">\n",
       "  <thead>\n",
       "    <tr style=\"text-align: right;\">\n",
       "      <th></th>\n",
       "      <th>AVG Revenue Per Month</th>\n",
       "      <th>Count Order Per Month</th>\n",
       "      <th>Total Revenue Per Month</th>\n",
       "    </tr>\n",
       "    <tr>\n",
       "      <th>JdMonth</th>\n",
       "      <th></th>\n",
       "      <th></th>\n",
       "      <th></th>\n",
       "    </tr>\n",
       "  </thead>\n",
       "  <tbody>\n",
       "    <tr>\n",
       "      <th>Far</th>\n",
       "      <td>5983</td>\n",
       "      <td>3279</td>\n",
       "      <td>19618499</td>\n",
       "    </tr>\n",
       "    <tr>\n",
       "      <th>Ord</th>\n",
       "      <td>6811</td>\n",
       "      <td>3503</td>\n",
       "      <td>23860379</td>\n",
       "    </tr>\n",
       "    <tr>\n",
       "      <th>Kho</th>\n",
       "      <td>6354</td>\n",
       "      <td>14380</td>\n",
       "      <td>91363493</td>\n",
       "    </tr>\n",
       "    <tr>\n",
       "      <th>Tir</th>\n",
       "      <td>6615</td>\n",
       "      <td>16228</td>\n",
       "      <td>107350424</td>\n",
       "    </tr>\n",
       "    <tr>\n",
       "      <th>Mor</th>\n",
       "      <td>5111</td>\n",
       "      <td>28663</td>\n",
       "      <td>146502637</td>\n",
       "    </tr>\n",
       "    <tr>\n",
       "      <th>Sha</th>\n",
       "      <td>5603</td>\n",
       "      <td>18630</td>\n",
       "      <td>104375481</td>\n",
       "    </tr>\n",
       "    <tr>\n",
       "      <th>Meh</th>\n",
       "      <td>5642</td>\n",
       "      <td>26699</td>\n",
       "      <td>150623504</td>\n",
       "    </tr>\n",
       "    <tr>\n",
       "      <th>Aba</th>\n",
       "      <td>5507</td>\n",
       "      <td>33233</td>\n",
       "      <td>183010916</td>\n",
       "    </tr>\n",
       "    <tr>\n",
       "      <th>Aza</th>\n",
       "      <td>5821</td>\n",
       "      <td>30989</td>\n",
       "      <td>180390183</td>\n",
       "    </tr>\n",
       "    <tr>\n",
       "      <th>Dey</th>\n",
       "      <td>6659</td>\n",
       "      <td>26642</td>\n",
       "      <td>177407408</td>\n",
       "    </tr>\n",
       "    <tr>\n",
       "      <th>Bah</th>\n",
       "      <td>5876</td>\n",
       "      <td>27839</td>\n",
       "      <td>163590162</td>\n",
       "    </tr>\n",
       "    <tr>\n",
       "      <th>Esf</th>\n",
       "      <td>7764</td>\n",
       "      <td>18227</td>\n",
       "      <td>141520734</td>\n",
       "    </tr>\n",
       "  </tbody>\n",
       "</table>\n",
       "</div>"
      ],
      "text/plain": [
       "         AVG Revenue Per Month  Count Order Per Month  Total Revenue Per Month\n",
       "JdMonth                                                                       \n",
       "Far                       5983                   3279                 19618499\n",
       "Ord                       6811                   3503                 23860379\n",
       "Kho                       6354                  14380                 91363493\n",
       "Tir                       6615                  16228                107350424\n",
       "Mor                       5111                  28663                146502637\n",
       "Sha                       5603                  18630                104375481\n",
       "Meh                       5642                  26699                150623504\n",
       "Aba                       5507                  33233                183010916\n",
       "Aza                       5821                  30989                180390183\n",
       "Dey                       6659                  26642                177407408\n",
       "Bah                       5876                  27839                163590162\n",
       "Esf                       7764                  18227                141520734"
      ]
     },
     "execution_count": 153,
     "metadata": {},
     "output_type": "execute_result"
    }
   ],
   "source": [
    "revehnue1398 = revenue[revenue['JdDate']< jd.date(1399, 1, 1)]\n",
    "logger.info('\\n AVG Revenue Per Month in 1388')\n",
    "summary98 = pd.concat([revehnue1398.groupby(pd.Grouper(key=\"JdMonth\")).agg({'Revenue': 'mean','OrderID': 'count'})\\\n",
    "            .rename(columns={'Revenue': 'AVG Revenue Per Month' ,'OrderID': 'Count Order Per Month'}),\n",
    "revehnue1398.groupby(pd.Grouper(key=\"JdMonth\")).agg({'Revenue': 'sum'}).rename(columns={'Revenue': 'Total Revenue Per Month'})], axis=1)\n",
    "\n",
    "summary98"
   ]
  },
  {
   "cell_type": "code",
   "execution_count": 189,
   "id": "f2b37968",
   "metadata": {},
   "outputs": [
    {
     "data": {
      "text/html": [
       "<div>\n",
       "<style scoped>\n",
       "    .dataframe tbody tr th:only-of-type {\n",
       "        vertical-align: middle;\n",
       "    }\n",
       "\n",
       "    .dataframe tbody tr th {\n",
       "        vertical-align: top;\n",
       "    }\n",
       "\n",
       "    .dataframe thead th {\n",
       "        text-align: right;\n",
       "    }\n",
       "</style>\n",
       "<table border=\"1\" class=\"dataframe\">\n",
       "  <thead>\n",
       "    <tr style=\"text-align: right;\">\n",
       "      <th></th>\n",
       "      <th>AVG Revenue Per Month</th>\n",
       "      <th>Count Order Per Month</th>\n",
       "      <th>Total Revenue Per Month</th>\n",
       "    </tr>\n",
       "    <tr>\n",
       "      <th>JdMonth</th>\n",
       "      <th></th>\n",
       "      <th></th>\n",
       "      <th></th>\n",
       "    </tr>\n",
       "  </thead>\n",
       "  <tbody>\n",
       "    <tr>\n",
       "      <th>Far</th>\n",
       "      <td>NaN</td>\n",
       "      <td>NaN</td>\n",
       "      <td>NaN</td>\n",
       "    </tr>\n",
       "    <tr>\n",
       "      <th>Ord</th>\n",
       "      <td>NaN</td>\n",
       "      <td>NaN</td>\n",
       "      <td>NaN</td>\n",
       "    </tr>\n",
       "    <tr>\n",
       "      <th>Kho</th>\n",
       "      <td>NaN</td>\n",
       "      <td>NaN</td>\n",
       "      <td>NaN</td>\n",
       "    </tr>\n",
       "    <tr>\n",
       "      <th>Tir</th>\n",
       "      <td>NaN</td>\n",
       "      <td>NaN</td>\n",
       "      <td>NaN</td>\n",
       "    </tr>\n",
       "    <tr>\n",
       "      <th>Mor</th>\n",
       "      <td>NaN</td>\n",
       "      <td>NaN</td>\n",
       "      <td>NaN</td>\n",
       "    </tr>\n",
       "    <tr>\n",
       "      <th>Sha</th>\n",
       "      <td>NaN</td>\n",
       "      <td>NaN</td>\n",
       "      <td>NaN</td>\n",
       "    </tr>\n",
       "    <tr>\n",
       "      <th>Meh</th>\n",
       "      <td>NaN</td>\n",
       "      <td>NaN</td>\n",
       "      <td>NaN</td>\n",
       "    </tr>\n",
       "    <tr>\n",
       "      <th>Aba</th>\n",
       "      <td>NaN</td>\n",
       "      <td>33233</td>\n",
       "      <td>183010916</td>\n",
       "    </tr>\n",
       "    <tr>\n",
       "      <th>Aza</th>\n",
       "      <td>NaN</td>\n",
       "      <td>NaN</td>\n",
       "      <td>NaN</td>\n",
       "    </tr>\n",
       "    <tr>\n",
       "      <th>Dey</th>\n",
       "      <td>NaN</td>\n",
       "      <td>NaN</td>\n",
       "      <td>NaN</td>\n",
       "    </tr>\n",
       "    <tr>\n",
       "      <th>Bah</th>\n",
       "      <td>NaN</td>\n",
       "      <td>NaN</td>\n",
       "      <td>NaN</td>\n",
       "    </tr>\n",
       "    <tr>\n",
       "      <th>Esf</th>\n",
       "      <td>7764</td>\n",
       "      <td>NaN</td>\n",
       "      <td>NaN</td>\n",
       "    </tr>\n",
       "  </tbody>\n",
       "</table>\n",
       "</div>"
      ],
      "text/plain": [
       "         AVG Revenue Per Month  Count Order Per Month  Total Revenue Per Month\n",
       "JdMonth                                                                       \n",
       "Far                        NaN                    NaN                      NaN\n",
       "Ord                        NaN                    NaN                      NaN\n",
       "Kho                        NaN                    NaN                      NaN\n",
       "Tir                        NaN                    NaN                      NaN\n",
       "Mor                        NaN                    NaN                      NaN\n",
       "Sha                        NaN                    NaN                      NaN\n",
       "Meh                        NaN                    NaN                      NaN\n",
       "Aba                        NaN                  33233                183010916\n",
       "Aza                        NaN                    NaN                      NaN\n",
       "Dey                        NaN                    NaN                      NaN\n",
       "Bah                        NaN                    NaN                      NaN\n",
       "Esf                       7764                    NaN                      NaN"
      ]
     },
     "execution_count": 189,
     "metadata": {},
     "output_type": "execute_result"
    }
   ],
   "source": [
    "# style.applymap(lambda v:'color:red;' if v is True, props='color:red;')\\\n",
    "# .applymap(lambda v:'color:red;' if v is True else None)\n",
    "\n",
    "summary98[summary98==summary98.max()]\n"
   ]
  },
  {
   "cell_type": "code",
   "execution_count": 197,
   "id": "bebc708e",
   "metadata": {},
   "outputs": [],
   "source": [
    "rev_agg = revenue.groupby(\"GDate\").Revenue.sum().reset_index()"
   ]
  },
  {
   "cell_type": "code",
   "execution_count": 201,
   "id": "5e6f4a10",
   "metadata": {},
   "outputs": [
    {
     "data": {
      "text/plain": [
       "<AxesSubplot:xlabel='GDate', ylabel='Revenue'>"
      ]
     },
     "execution_count": 201,
     "metadata": {},
     "output_type": "execute_result"
    },
    {
     "data": {
      "image/png": "[encoded data removed]",
      "text/plain": [
       "<Figure size 864x432 with 1 Axes>"
      ]
     },
     "metadata": {},
     "output_type": "display_data"
    }
   ],
   "source": [
    "sns.lineplot(x=rev_agg.GDate, y=rev_agg.Revenue, estimator='mean')"
   ]
  },
  {
   "cell_type": "code",
   "execution_count": null,
   "id": "7125b354",
   "metadata": {},
   "outputs": [],
   "source": []
  },
  {
   "cell_type": "code",
   "execution_count": 209,
   "id": "6d2de6c9",
   "metadata": {},
   "outputs": [],
   "source": [
    "LASTGDATE = revenue.GDate.max()\n",
    "LASTJDATE = revenue.JdDate.max()"
   ]
  },
  {
   "cell_type": "markdown",
   "id": "23340ec8",
   "metadata": {},
   "source": [
    "let's creat Recency, Frequency, Monitize(both on avg and total)"
   ]
  },
  {
   "cell_type": "code",
   "execution_count": 208,
   "id": "28c5f9a2",
   "metadata": {},
   "outputs": [],
   "source": [
    "recency = revenue.groupby(['CustomerID'],as_index=False)['JdDate'].max()\\\n",
    "                 .rename(columns={'JdDate': 'LastPurchaseDate'})\n"
   ]
  },
  {
   "cell_type": "code",
   "execution_count": 211,
   "id": "16ec2a42",
   "metadata": {},
   "outputs": [],
   "source": [
    "recency['Recency'] = recency.LastPurchaseDate.apply(lambda x:(LASTJDATE - x).days)"
   ]
  },
  {
   "cell_type": "code",
   "execution_count": 215,
   "id": "027db3a4",
   "metadata": {},
   "outputs": [
    {
     "data": {
      "text/plain": [
       "<AxesSubplot:xlabel='Recency', ylabel='Count'>"
      ]
     },
     "execution_count": 215,
     "metadata": {},
     "output_type": "execute_result"
    },
    {
     "data": {
      "image/png": "[encoded data removed]",
      "text/plain": [
       "<Figure size 864x432 with 1 Axes>"
      ]
     },
     "metadata": {},
     "output_type": "display_data"
    }
   ],
   "source": [
    "sns.histplot(recency.Recency)"
   ]
  },
  {
   "cell_type": "code",
   "execution_count": 222,
   "id": "3162d5e1",
   "metadata": {},
   "outputs": [],
   "source": [
    "freq_mon = revenue.groupby('CustomerID', as_index=False)\\\n",
    "                  .agg({'OrderID': 'count',\n",
    "                        'Revenue': 'sum'})\\\n",
    "                  .rename(columns={'OrderID' :'Frequency',\n",
    "                           'Revenue':'Monetary'})"
   ]
  },
  {
   "cell_type": "code",
   "execution_count": 236,
   "id": "85354000",
   "metadata": {},
   "outputs": [
    {
     "data": {
      "text/plain": [
       "<AxesSubplot:xlabel='Frequency', ylabel='count'>"
      ]
     },
     "execution_count": 236,
     "metadata": {},
     "output_type": "execute_result"
    },
    {
     "data": {
      "image/png": "[encoded data removed]",
      "text/plain": [
       "<Figure size 864x432 with 1 Axes>"
      ]
     },
     "metadata": {},
     "output_type": "display_data"
    }
   ],
   "source": [
    "sns.countplot(freq_mon.Frequency)\n"
   ]
  },
  {
   "cell_type": "markdown",
   "id": "5cd15be2",
   "metadata": {},
   "source": [
    "pareto again :)"
   ]
  },
  {
   "cell_type": "code",
   "execution_count": 239,
   "id": "2486c30b",
   "metadata": {},
   "outputs": [
    {
     "data": {
      "text/plain": [
       "<AxesSubplot:xlabel='Monetary'>"
      ]
     },
     "execution_count": 239,
     "metadata": {},
     "output_type": "execute_result"
    },
    {
     "data": {
      "image/png": "[encoded data removed]",
      "text/plain": [
       "<Figure size 864x432 with 1 Axes>"
      ]
     },
     "metadata": {},
     "output_type": "display_data"
    }
   ],
   "source": [
    "sns.boxenplot(freq_mon.Monetary)"
   ]
  },
  {
   "cell_type": "code",
   "execution_count": 245,
   "id": "6bb51860",
   "metadata": {},
   "outputs": [],
   "source": [
    "rfm_df = recency.merge(freq_mon,on='CustomerID').drop(columns='LastPurchaseDate')"
   ]
  },
  {
   "cell_type": "code",
   "execution_count": 250,
   "id": "ad77e99a",
   "metadata": {},
   "outputs": [
    {
     "name": "stderr",
     "output_type": "stream",
     "text": [
      "2022-04-10 00:47:16.853 | INFO     | __main__:<cell line: 2>:2 - Data shape: (179680, 4)\n"
     ]
    },
    {
     "data": {
      "text/html": [
       "<div>\n",
       "<style scoped>\n",
       "    .dataframe tbody tr th:only-of-type {\n",
       "        vertical-align: middle;\n",
       "    }\n",
       "\n",
       "    .dataframe tbody tr th {\n",
       "        vertical-align: top;\n",
       "    }\n",
       "\n",
       "    .dataframe thead tr th {\n",
       "        text-align: left;\n",
       "    }\n",
       "</style>\n",
       "<table border=\"1\" class=\"dataframe\">\n",
       "  <thead>\n",
       "    <tr>\n",
       "      <th></th>\n",
       "      <th>dtype</th>\n",
       "      <th>num_uniques</th>\n",
       "      <th colspan=\"8\" halign=\"left\">count</th>\n",
       "    </tr>\n",
       "    <tr>\n",
       "      <th></th>\n",
       "      <th>0</th>\n",
       "      <th>1</th>\n",
       "      <th>count</th>\n",
       "      <th>mean</th>\n",
       "      <th>std</th>\n",
       "      <th>min</th>\n",
       "      <th>25%</th>\n",
       "      <th>50%</th>\n",
       "      <th>75%</th>\n",
       "      <th>max</th>\n",
       "    </tr>\n",
       "  </thead>\n",
       "  <tbody>\n",
       "    <tr>\n",
       "      <th>CustomerID</th>\n",
       "      <td>int64</td>\n",
       "      <td>179680</td>\n",
       "      <td>179680</td>\n",
       "      <td>7606196</td>\n",
       "      <td>5001455</td>\n",
       "      <td>465132</td>\n",
       "      <td>3536368</td>\n",
       "      <td>7100330</td>\n",
       "      <td>11658242</td>\n",
       "      <td>46549548</td>\n",
       "    </tr>\n",
       "    <tr>\n",
       "      <th>Recency</th>\n",
       "      <td>int64</td>\n",
       "      <td>396</td>\n",
       "      <td>179680</td>\n",
       "      <td>158</td>\n",
       "      <td>90</td>\n",
       "      <td>0</td>\n",
       "      <td>85</td>\n",
       "      <td>150</td>\n",
       "      <td>232</td>\n",
       "      <td>395</td>\n",
       "    </tr>\n",
       "    <tr>\n",
       "      <th>Frequency</th>\n",
       "      <td>int64</td>\n",
       "      <td>82</td>\n",
       "      <td>179680</td>\n",
       "      <td>1</td>\n",
       "      <td>2</td>\n",
       "      <td>1</td>\n",
       "      <td>1</td>\n",
       "      <td>1</td>\n",
       "      <td>1</td>\n",
       "      <td>231</td>\n",
       "    </tr>\n",
       "    <tr>\n",
       "      <th>Monetary</th>\n",
       "      <td>int64</td>\n",
       "      <td>16962</td>\n",
       "      <td>179680</td>\n",
       "      <td>8907</td>\n",
       "      <td>25864</td>\n",
       "      <td>106</td>\n",
       "      <td>2899</td>\n",
       "      <td>5467</td>\n",
       "      <td>9754</td>\n",
       "      <td>3360683</td>\n",
       "    </tr>\n",
       "  </tbody>\n",
       "</table>\n",
       "</div>"
      ],
      "text/plain": [
       "            dtype num_uniques  count                                         \\\n",
       "                0           1  count    mean     std    min     25%     50%   \n",
       "CustomerID  int64      179680 179680 7606196 5001455 465132 3536368 7100330   \n",
       "Recency     int64         396 179680     158      90      0      85     150   \n",
       "Frequency   int64          82 179680       1       2      1       1       1   \n",
       "Monetary    int64       16962 179680    8907   25864    106    2899    5467   \n",
       "\n",
       "                              \n",
       "                75%      max  \n",
       "CustomerID 11658242 46549548  \n",
       "Recency         232      395  \n",
       "Frequency         1      231  \n",
       "Monetary       9754  3360683  "
      ]
     },
     "execution_count": 250,
     "metadata": {},
     "output_type": "execute_result"
    }
   ],
   "source": [
    "keys = ['dtype', 'num_uniques']+list(rfm_df.describe().T.columns)\n",
    "logger.info(f'Data shape: {rfm_df.shape}')\n",
    "pd.concat([rfm_df.dtypes, \n",
    "          rfm_df.nunique(),\n",
    "          rfm_df.describe().T], axis=1, keys=keys)"
   ]
  },
  {
   "cell_type": "markdown",
   "id": "cf1f8289",
   "metadata": {},
   "source": [
    "## Clustering"
   ]
  },
  {
   "cell_type": "code",
   "execution_count": null,
   "id": "3c616e7e",
   "metadata": {},
   "outputs": [],
   "source": []
  },
  {
   "cell_type": "markdown",
   "id": "7d23a182",
   "metadata": {},
   "source": []
  },
  {
   "cell_type": "code",
   "execution_count": null,
   "id": "25147308",
   "metadata": {},
   "outputs": [],
   "source": []
  },
  {
   "cell_type": "code",
   "execution_count": null,
   "id": "a78e3b08",
   "metadata": {},
   "outputs": [],
   "source": []
  },
  {
   "cell_type": "code",
   "execution_count": null,
   "id": "e123d683",
   "metadata": {},
   "outputs": [],
   "source": []
  },
  {
   "cell_type": "code",
   "execution_count": null,
   "id": "9e88b273",
   "metadata": {},
   "outputs": [],
   "source": []
  },
  {
   "cell_type": "code",
   "execution_count": null,
   "id": "fb15872b",
   "metadata": {},
   "outputs": [],
   "source": []
  },
  {
   "cell_type": "code",
   "execution_count": null,
   "id": "e7ad8941",
   "metadata": {},
   "outputs": [],
   "source": []
  }
 ],
 "metadata": {
  "interpreter": {
   "hash": "14291604f1b45e8f62988fb607242a53efc25ebf52a4bac112abed120580158c"
  },
  "kernelspec": {
   "display_name": "Python 3.9.12 64-bit ('interview_tasks': conda)",
   "name": "python3"
  },
  "language_info": {
   "codemirror_mode": {
    "name": "ipython",
    "version": 3
   },
   "file_extension": ".py",
   "mimetype": "text/x-python",
   "name": "python",
   "nbconvert_exporter": "python",
   "pygments_lexer": "ipython3",
   "version": "3.9.12"
  }
 },
 "nbformat": 4,
 "nbformat_minor": 5
}
